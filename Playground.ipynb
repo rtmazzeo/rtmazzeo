{
  "nbformat": 4,
  "nbformat_minor": 0,
  "metadata": {
    "colab": {
      "provenance": [],
      "authorship_tag": "ABX9TyPbSVbTs2F1/PfS+x/wwKlZ",
      "include_colab_link": true
    },
    "kernelspec": {
      "name": "python3",
      "display_name": "Python 3"
    },
    "language_info": {
      "name": "python"
    }
  },
  "cells": [
    {
      "cell_type": "markdown",
      "metadata": {
        "id": "view-in-github",
        "colab_type": "text"
      },
      "source": [
        "<a href=\"https://colab.research.google.com/github/rtmazzeo/rtmazzeo/blob/main/Playground.ipynb\" target=\"_parent\"><img src=\"https://colab.research.google.com/assets/colab-badge.svg\" alt=\"Open In Colab\"/></a>"
      ]
    },
    {
      "cell_type": "code",
      "execution_count": 1,
      "metadata": {
        "id": "u84KXosTrqfz"
      },
      "outputs": [],
      "source": [
        "#from google.colab import drive\n",
        "import os\n",
        "os.makedirs('playground') #cria diretorio playground"
      ]
    },
    {
      "cell_type": "code",
      "source": [
        "\n",
        "text_content = \"Atualização do arquivo readme.md para teste\"\n",
        "file_path = \"/content/playground/readme.md\" #Cria um arquivo .md no diretorio especificado\n",
        "with open(file_path, \"w\") as file: file.write(text_content) # escreve no arquivo"
      ],
      "metadata": {
        "id": "eF7TMvZzsQvX"
      },
      "execution_count": 3,
      "outputs": []
    },
    {
      "cell_type": "code",
      "source": [],
      "metadata": {
        "id": "cxr4J_OCtlDv"
      },
      "execution_count": null,
      "outputs": []
    }
  ]
}